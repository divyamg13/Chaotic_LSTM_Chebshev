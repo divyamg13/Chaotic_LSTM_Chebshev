{
  "nbformat": 4,
  "nbformat_minor": 0,
  "metadata": {
    "colab": {
      "provenance": []
    },
    "kernelspec": {
      "name": "python3",
      "display_name": "Python 3"
    },
    "language_info": {
      "name": "python"
    }
  },
  "cells": [
    {
      "cell_type": "code",
      "execution_count": 17,
      "metadata": {
        "colab": {
          "base_uri": "https://localhost:8080/"
        },
        "id": "neoOe5N2efb0",
        "outputId": "65ec9583-b79f-4c38-e201-4a3613469bae"
      },
      "outputs": [
        {
          "output_type": "stream",
          "name": "stdout",
          "text": [
            "Baseline Lipschitz constant (Sigmoid): 0.24999993748750857\n",
            "Baseline Lipschitz constant (Tanh): 0.999998999800637\n",
            "Estimated Lipschitz constant (Cheby-Sigmoid): 0.3318652129548819\n",
            "Estimated Lipschitz constant (Cheby-Tanh): 1.0517399430302916\n"
          ]
        }
      ],
      "source": [
        "import numpy as np\n",
        "\n",
        "def T_n(x, n):\n",
        "    return np.cos(n * np.arccos(x))\n",
        "\n",
        "def T_n_prime(x, n):\n",
        "    return (n * np.sin(n * np.arccos(x))) / np.sqrt(1 - x**2 + 1e-12)\n",
        "\n",
        "def sigmoid(x):\n",
        "    return 1 / (1 + np.exp(-x))\n",
        "\n",
        "def sigmoid_prime(x):\n",
        "    s = sigmoid(x)\n",
        "    return s * (1 - s)\n",
        "\n",
        "def sigmoid_double_prime(x):\n",
        "    s = sigmoid(x)\n",
        "    return (1 - 2*s) * s * (1 - s)\n",
        "\n",
        "def tanh(x):\n",
        "    return np.tanh(x)\n",
        "\n",
        "def sech2(x):\n",
        "    return 1 / np.cosh(x)**2\n",
        "def cheby_sigmoid(x, alpha=1.0, beta=0.5, n=2):\n",
        "    u = np.tanh(beta * x)\n",
        "    return sigmoid(x) + alpha * T_n(u, n) * sigmoid_prime(x)\n",
        "\n",
        "def cheby_sigmoid_prime(x, alpha=1.0, beta=0.5, n=2):\n",
        "    u = np.tanh(beta * x)\n",
        "    return (sigmoid_prime(x)\n",
        "            + alpha * (T_n(u, n) * sigmoid_double_prime(x)\n",
        "            + sigmoid_prime(x) * T_n_prime(u, n) * beta * sech2(beta*x)))\n",
        "\n",
        "def cheby_tanh(x, alpha=1.0, beta=0.5, n=2):\n",
        "    u = np.tanh(beta * x)\n",
        "    return tanh(x) + alpha * T_n(u, n) * sech2(x)\n",
        "\n",
        "def cheby_tanh_prime(x, alpha=1.0, beta=0.5, n=2):\n",
        "    u = np.tanh(beta * x)\n",
        "    return (sech2(x)\n",
        "            + alpha * (T_n(u, n) * (-2 * tanh(x) * sech2(x))\n",
        "            + sech2(x) * T_n_prime(u, n) * beta * sech2(beta*x)))\n",
        "\n",
        "def lipschitz_constant(func_prime, xmin=-10, xmax=10, grid=10000, **kwargs):\n",
        "    xs = np.linspace(xmin, xmax, grid)\n",
        "    vals = func_prime(xs, **kwargs)\n",
        "    return np.max(np.abs(vals))\n",
        "\n",
        "alpha, beta, n = 0.4, 0.9, 3\n",
        "\n",
        "L_sigmoid_base = lipschitz_constant(sigmoid_prime)\n",
        "L_tanh_base    = lipschitz_constant(sech2)\n",
        "\n",
        "L_sigmoid_cheb = lipschitz_constant(cheby_sigmoid_prime, alpha=alpha, beta=beta, n=n)\n",
        "L_tanh_cheb    = lipschitz_constant(cheby_tanh_prime, alpha=alpha, beta=beta, n=n)\n",
        "\n",
        "print(\"Baseline Lipschitz constant (Sigmoid):\", L_sigmoid_base)\n",
        "print(\"Baseline Lipschitz constant (Tanh):\", L_tanh_base)\n",
        "print(\"Estimated Lipschitz constant (Cheby-Sigmoid):\", L_sigmoid_cheb)\n",
        "print(\"Estimated Lipschitz constant (Cheby-Tanh):\", L_tanh_cheb)\n"
      ]
    }
  ]
}